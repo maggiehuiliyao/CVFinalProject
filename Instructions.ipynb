{
 "cells": [
  {
   "cell_type": "markdown",
   "metadata": {
    "id": "gz6CwD6MRWFs"
   },
   "source": [
    "##Install Requirement"
   ]
  },
  {
   "cell_type": "code",
   "execution_count": 21,
   "metadata": {
    "id": "nD9uOPEK65K0"
   },
   "outputs": [
    {
     "name": "stdout",
     "output_type": "stream",
     "text": [
      "zsh:1: command not found: nvidia-smi\n"
     ]
    }
   ],
   "source": [
    "!nvidia-smi"
   ]
  },
  {
   "cell_type": "code",
   "execution_count": 22,
   "metadata": {
    "id": "9AwVn7yc7Soj"
   },
   "outputs": [
    {
     "name": "stdout",
     "output_type": "stream",
     "text": [
      "fatal: destination path 'MedViT' already exists and is not an empty directory.\n",
      "[Errno 2] No such file or directory: '/content/MedViT'\n",
      "/Users/maggieyao/computer_vision/cv-final-project/CVFinalProject\n"
     ]
    }
   ],
   "source": [
    "!git clone https://github.com/Omid-Nejati/MedViT.git\n",
    "%cd /content/MedViT"
   ]
  },
  {
   "cell_type": "code",
   "execution_count": 23,
   "metadata": {
    "id": "RPHDM3KwQ4Ys"
   },
   "outputs": [
    {
     "name": "stdout",
     "output_type": "stream",
     "text": [
      "Defaulting to user installation because normal site-packages is not writeable\n",
      "Requirement already satisfied: einops in /Users/maggieyao/Library/Python/3.10/lib/python/site-packages (from -r requirements.txt (line 1)) (0.7.0)\n",
      "Requirement already satisfied: timm in /Users/maggieyao/Library/Python/3.10/lib/python/site-packages (from -r requirements.txt (line 2)) (0.9.16)\n",
      "Requirement already satisfied: medmnist in /Users/maggieyao/Library/Python/3.10/lib/python/site-packages (from -r requirements.txt (line 3)) (3.0.1)\n",
      "Requirement already satisfied: numpy in /Users/maggieyao/Library/Python/3.10/lib/python/site-packages (from -r requirements.txt (line 4)) (1.26.4)\n",
      "Requirement already satisfied: pandas in /Users/maggieyao/Library/Python/3.10/lib/python/site-packages (from -r requirements.txt (line 5)) (2.2.2)\n",
      "Requirement already satisfied: scikit-learn in /Library/Frameworks/Python.framework/Versions/3.10/lib/python3.10/site-packages (from -r requirements.txt (line 6)) (1.3.1)\n",
      "Requirement already satisfied: scikit-image in /Users/maggieyao/Library/Python/3.10/lib/python/site-packages (from -r requirements.txt (line 7)) (0.23.1)\n",
      "Requirement already satisfied: fvcore in /Users/maggieyao/Library/Python/3.10/lib/python/site-packages (from -r requirements.txt (line 8)) (0.1.5.post20221221)\n",
      "Requirement already satisfied: tqdm in /Library/Frameworks/Python.framework/Versions/3.10/lib/python3.10/site-packages (from -r requirements.txt (line 9)) (4.66.1)\n",
      "Requirement already satisfied: Pillow in /Users/maggieyao/Library/Python/3.10/lib/python/site-packages (from -r requirements.txt (line 10)) (10.3.0)\n",
      "Requirement already satisfied: fire in /Users/maggieyao/Library/Python/3.10/lib/python/site-packages (from -r requirements.txt (line 11)) (0.6.0)\n",
      "Requirement already satisfied: torchattacks in /Users/maggieyao/Library/Python/3.10/lib/python/site-packages (from -r requirements.txt (line 12)) (3.5.1)\n",
      "Requirement already satisfied: torch in /Users/maggieyao/Library/Python/3.10/lib/python/site-packages (from -r requirements.txt (line 13)) (2.3.0)\n",
      "Requirement already satisfied: torchvision in /Users/maggieyao/Library/Python/3.10/lib/python/site-packages (from -r requirements.txt (line 14)) (0.18.0)\n",
      "Requirement already satisfied: pyyaml in /Library/Frameworks/Python.framework/Versions/3.10/lib/python3.10/site-packages (from timm->-r requirements.txt (line 2)) (6.0.1)\n",
      "Requirement already satisfied: huggingface_hub in /Library/Frameworks/Python.framework/Versions/3.10/lib/python3.10/site-packages (from timm->-r requirements.txt (line 2)) (0.17.3)\n",
      "Requirement already satisfied: safetensors in /Library/Frameworks/Python.framework/Versions/3.10/lib/python3.10/site-packages (from timm->-r requirements.txt (line 2)) (0.3.3)\n",
      "Requirement already satisfied: python-dateutil>=2.8.2 in /Users/maggieyao/Library/Python/3.10/lib/python/site-packages (from pandas->-r requirements.txt (line 5)) (2.8.2)\n",
      "Requirement already satisfied: pytz>=2020.1 in /Library/Frameworks/Python.framework/Versions/3.10/lib/python3.10/site-packages (from pandas->-r requirements.txt (line 5)) (2022.7.1)\n",
      "Requirement already satisfied: tzdata>=2022.7 in /Library/Frameworks/Python.framework/Versions/3.10/lib/python3.10/site-packages (from pandas->-r requirements.txt (line 5)) (2023.3)\n",
      "Requirement already satisfied: scipy>=1.5.0 in /Library/Frameworks/Python.framework/Versions/3.10/lib/python3.10/site-packages (from scikit-learn->-r requirements.txt (line 6)) (1.11.3)\n",
      "Requirement already satisfied: joblib>=1.1.1 in /Library/Frameworks/Python.framework/Versions/3.10/lib/python3.10/site-packages (from scikit-learn->-r requirements.txt (line 6)) (1.2.0)\n",
      "Requirement already satisfied: threadpoolctl>=2.0.0 in /Library/Frameworks/Python.framework/Versions/3.10/lib/python3.10/site-packages (from scikit-learn->-r requirements.txt (line 6)) (3.1.0)\n",
      "Requirement already satisfied: networkx>=2.8 in /Users/maggieyao/Library/Python/3.10/lib/python/site-packages (from scikit-image->-r requirements.txt (line 7)) (3.3)\n",
      "Requirement already satisfied: imageio>=2.33 in /Users/maggieyao/Library/Python/3.10/lib/python/site-packages (from scikit-image->-r requirements.txt (line 7)) (2.34.0)\n",
      "Requirement already satisfied: tifffile>=2022.8.12 in /Users/maggieyao/Library/Python/3.10/lib/python/site-packages (from scikit-image->-r requirements.txt (line 7)) (2024.2.12)\n",
      "Requirement already satisfied: packaging>=21 in /Library/Frameworks/Python.framework/Versions/3.10/lib/python3.10/site-packages (from scikit-image->-r requirements.txt (line 7)) (21.3)\n",
      "Requirement already satisfied: lazy-loader>=0.4 in /Users/maggieyao/Library/Python/3.10/lib/python/site-packages (from scikit-image->-r requirements.txt (line 7)) (0.4)\n",
      "Requirement already satisfied: yacs>=0.1.6 in /Users/maggieyao/Library/Python/3.10/lib/python/site-packages (from fvcore->-r requirements.txt (line 8)) (0.1.8)\n",
      "Requirement already satisfied: termcolor>=1.1 in /Users/maggieyao/Library/Python/3.10/lib/python/site-packages (from fvcore->-r requirements.txt (line 8)) (2.4.0)\n",
      "Requirement already satisfied: tabulate in /Library/Frameworks/Python.framework/Versions/3.10/lib/python3.10/site-packages (from fvcore->-r requirements.txt (line 8)) (0.9.0)\n",
      "Requirement already satisfied: iopath>=0.1.7 in /Users/maggieyao/Library/Python/3.10/lib/python/site-packages (from fvcore->-r requirements.txt (line 8)) (0.1.10)\n",
      "Requirement already satisfied: six in /Users/maggieyao/Library/Python/3.10/lib/python/site-packages (from fire->-r requirements.txt (line 11)) (1.16.0)\n",
      "Requirement already satisfied: requests~=2.25.1 in /Users/maggieyao/Library/Python/3.10/lib/python/site-packages (from torchattacks->-r requirements.txt (line 12)) (2.25.1)\n",
      "Requirement already satisfied: filelock in /Library/Frameworks/Python.framework/Versions/3.10/lib/python3.10/site-packages (from torch->-r requirements.txt (line 13)) (3.12.4)\n",
      "Requirement already satisfied: typing-extensions>=4.8.0 in /Library/Frameworks/Python.framework/Versions/3.10/lib/python3.10/site-packages (from torch->-r requirements.txt (line 13)) (4.8.0)\n",
      "Requirement already satisfied: sympy in /Users/maggieyao/Library/Python/3.10/lib/python/site-packages (from torch->-r requirements.txt (line 13)) (1.12)\n",
      "Requirement already satisfied: jinja2 in /Library/Frameworks/Python.framework/Versions/3.10/lib/python3.10/site-packages (from torch->-r requirements.txt (line 13)) (3.1.2)\n",
      "Requirement already satisfied: fsspec in /Library/Frameworks/Python.framework/Versions/3.10/lib/python3.10/site-packages (from torch->-r requirements.txt (line 13)) (2023.6.0)\n",
      "Requirement already satisfied: portalocker in /Users/maggieyao/Library/Python/3.10/lib/python/site-packages (from iopath>=0.1.7->fvcore->-r requirements.txt (line 8)) (2.8.2)\n",
      "Requirement already satisfied: pyparsing!=3.0.5,>=2.0.2 in /Library/Frameworks/Python.framework/Versions/3.10/lib/python3.10/site-packages (from packaging>=21->scikit-image->-r requirements.txt (line 7)) (3.0.9)\n",
      "Requirement already satisfied: chardet<5,>=3.0.2 in /Users/maggieyao/Library/Python/3.10/lib/python/site-packages (from requests~=2.25.1->torchattacks->-r requirements.txt (line 12)) (4.0.0)\n",
      "Requirement already satisfied: idna<3,>=2.5 in /Users/maggieyao/Library/Python/3.10/lib/python/site-packages (from requests~=2.25.1->torchattacks->-r requirements.txt (line 12)) (2.10)\n",
      "Requirement already satisfied: urllib3<1.27,>=1.21.1 in /Library/Frameworks/Python.framework/Versions/3.10/lib/python3.10/site-packages (from requests~=2.25.1->torchattacks->-r requirements.txt (line 12)) (1.26.13)\n",
      "Requirement already satisfied: certifi>=2017.4.17 in /Library/Frameworks/Python.framework/Versions/3.10/lib/python3.10/site-packages (from requests~=2.25.1->torchattacks->-r requirements.txt (line 12)) (2022.12.7)\n",
      "Requirement already satisfied: MarkupSafe>=2.0 in /Library/Frameworks/Python.framework/Versions/3.10/lib/python3.10/site-packages (from jinja2->torch->-r requirements.txt (line 13)) (2.1.3)\n",
      "Requirement already satisfied: mpmath>=0.19 in /Users/maggieyao/Library/Python/3.10/lib/python/site-packages (from sympy->torch->-r requirements.txt (line 13)) (1.3.0)\n",
      "Note: you may need to restart the kernel to use updated packages.\n"
     ]
    }
   ],
   "source": [
    "pip install -r requirements.txt"
   ]
  },
  {
   "cell_type": "code",
   "execution_count": 4,
   "metadata": {},
   "outputs": [
    {
     "name": "stdout",
     "output_type": "stream",
     "text": [
      "Defaulting to user installation because normal site-packages is not writeable\n",
      "Requirement already satisfied: matplotlib in /Users/maggieyao/Library/Python/3.10/lib/python/site-packages (3.8.4)\n",
      "Requirement already satisfied: contourpy>=1.0.1 in /Users/maggieyao/Library/Python/3.10/lib/python/site-packages (from matplotlib) (1.2.1)\n",
      "Requirement already satisfied: cycler>=0.10 in /Users/maggieyao/Library/Python/3.10/lib/python/site-packages (from matplotlib) (0.12.1)\n",
      "Requirement already satisfied: fonttools>=4.22.0 in /Users/maggieyao/Library/Python/3.10/lib/python/site-packages (from matplotlib) (4.51.0)\n",
      "Requirement already satisfied: kiwisolver>=1.3.1 in /Users/maggieyao/Library/Python/3.10/lib/python/site-packages (from matplotlib) (1.4.5)\n",
      "Requirement already satisfied: numpy>=1.21 in /Library/Frameworks/Python.framework/Versions/3.10/lib/python3.10/site-packages (from matplotlib) (1.24.2)\n",
      "Requirement already satisfied: packaging>=20.0 in /Library/Frameworks/Python.framework/Versions/3.10/lib/python3.10/site-packages (from matplotlib) (21.3)\n",
      "Requirement already satisfied: pillow>=8 in /Users/maggieyao/Library/Python/3.10/lib/python/site-packages (from matplotlib) (10.3.0)\n",
      "Requirement already satisfied: pyparsing>=2.3.1 in /Library/Frameworks/Python.framework/Versions/3.10/lib/python3.10/site-packages (from matplotlib) (3.0.9)\n",
      "Requirement already satisfied: python-dateutil>=2.7 in /Users/maggieyao/Library/Python/3.10/lib/python/site-packages (from matplotlib) (2.8.2)\n",
      "Requirement already satisfied: six>=1.5 in /Users/maggieyao/Library/Python/3.10/lib/python/site-packages (from python-dateutil>=2.7->matplotlib) (1.16.0)\n",
      "Note: you may need to restart the kernel to use updated packages.\n"
     ]
    }
   ],
   "source": [
    "pip install matplotlib"
   ]
  },
  {
   "cell_type": "code",
   "execution_count": 30,
   "metadata": {
    "id": "lgm5vmQp8i9h"
   },
   "outputs": [],
   "source": [
    "import numpy as np\n",
    "import matplotlib.pyplot as plt\n",
    "%matplotlib inline\n",
    "\n",
    "import torch\n",
    "import torch.nn as nn\n",
    "import torch.optim as optim\n",
    "import torch.utils.data as data\n",
    "\n",
    "import torchvision.utils\n",
    "from torchvision import models\n",
    "import torchvision.datasets as dsets\n",
    "import torchvision.transforms as transforms\n",
    "from torchsummary import summary\n",
    "\n",
    "from tqdm import tqdm\n",
    "import medmnist\n",
    "from medmnist import INFO\n",
    "\n",
    "import torchattacks\n",
    "from torchattacks import PGD, FGSM"
   ]
  },
  {
   "cell_type": "code",
   "execution_count": 32,
   "metadata": {},
   "outputs": [],
   "source": [
    "from medmnist import evaluator\n"
   ]
  },
  {
   "cell_type": "code",
   "execution_count": 33,
   "metadata": {
    "id": "deLoJPfDTDWl"
   },
   "outputs": [
    {
     "name": "stdout",
     "output_type": "stream",
     "text": [
      "PyTorch 2.3.0\n",
      "Torchvision 0.18.0\n",
      "Torchattacks 3.5.1\n",
      "Numpy 1.24.2\n",
      "Medmnist 3.0.1\n"
     ]
    }
   ],
   "source": [
    "print(\"PyTorch\", torch.__version__)\n",
    "print(\"Torchvision\", torchvision.__version__)\n",
    "print(\"Torchattacks\", torchattacks.__version__)\n",
    "print(\"Numpy\", np.__version__)\n",
    "print(\"Medmnist\", medmnist.__version__)"
   ]
  },
  {
   "cell_type": "code",
   "execution_count": 34,
   "metadata": {},
   "outputs": [
    {
     "name": "stdout",
     "output_type": "stream",
     "text": [
      "Medmnist 3.0.1\n"
     ]
    }
   ],
   "source": [
    "print(\"Medmnist\", medmnist.__version__)"
   ]
  },
  {
   "cell_type": "markdown",
   "metadata": {
    "id": "nIefIFDW80-U"
   },
   "source": [
    "##Dataset"
   ]
  },
  {
   "cell_type": "markdown",
   "metadata": {
    "id": "rVNzCWaVUd_1"
   },
   "source": [
    "data_flag =  \n",
    "[tissuemnist, pathmnist, chestmnist, dermamnist, octmnist, pnemoniamnist, retinamnist, breastmnist, bloodmnist, tissuemnist, organamnist, organcmnist, organsmnist]"
   ]
  },
  {
   "cell_type": "code",
   "execution_count": 35,
   "metadata": {
    "id": "rH1INOxS8-iM"
   },
   "outputs": [
    {
     "name": "stdout",
     "output_type": "stream",
     "text": [
      "number of channels :  3\n",
      "number of classes :  5\n"
     ]
    }
   ],
   "source": [
    "data_flag = 'retinamnist'\n",
    "# [tissuemnist, pathmnist, chestmnist, dermamnist, octmnist,\n",
    "# pnemoniamnist, retinamnist, breastmnist, bloodmnist, tissuemnist, organamnist, organcmnist, organsmnist]\n",
    "download = True\n",
    "\n",
    "# NUM_EPOCHS = 10\n",
    "# BATCH_SIZE = 10\n",
    "NUM_EPOCHS = 5\n",
    "BATCH_SIZE = 128\n",
    "# lr = 0.005\n",
    "lr = 0.001\n",
    "\n",
    "info = INFO[data_flag]\n",
    "task = info['task']\n",
    "n_channels = info['n_channels']\n",
    "n_classes = len(info['label'])\n",
    "\n",
    "DataClass = getattr(medmnist, info['python_class'])\n",
    "\n",
    "print(\"number of channels : \", n_channels)\n",
    "print(\"number of classes : \", n_classes)"
   ]
  },
  {
   "cell_type": "code",
   "execution_count": 36,
   "metadata": {
    "id": "TD22o8uW9L1X"
   },
   "outputs": [
    {
     "name": "stdout",
     "output_type": "stream",
     "text": [
      "Using downloaded and verified file: /Users/maggieyao/.medmnist/retinamnist.npz\n",
      "Using downloaded and verified file: /Users/maggieyao/.medmnist/retinamnist.npz\n"
     ]
    }
   ],
   "source": [
    "from torchvision.transforms.transforms import Resize\n",
    "# preprocessing\n",
    "train_transform = transforms.Compose([\n",
    "    transforms.Resize(224),\n",
    "    transforms.Lambda(lambda image: image.convert('RGB')),\n",
    "    torchvision.transforms.AugMix(),\n",
    "    transforms.ToTensor(),\n",
    "    transforms.Normalize(mean=[.5], std=[.5])\n",
    "])\n",
    "test_transform = transforms.Compose([\n",
    "    transforms.Resize(224),\n",
    "    transforms.Lambda(lambda image: image.convert('RGB')),\n",
    "    transforms.ToTensor(),\n",
    "    transforms.Normalize(mean=[.5], std=[.5])\n",
    "])\n",
    "\n",
    "# load the data\n",
    "train_dataset = DataClass(split='train', transform=train_transform, download=download)\n",
    "test_dataset = DataClass(split='test', transform=test_transform, download=download)\n",
    "\n",
    "# pil_dataset = DataClass(split='train', download=download)\n",
    "\n",
    "# encapsulate data into dataloader form\n",
    "train_loader = data.DataLoader(dataset=train_dataset, batch_size=BATCH_SIZE, shuffle=True)\n",
    "train_loader_at_eval = data.DataLoader(dataset=train_dataset, batch_size=2*BATCH_SIZE, shuffle=False)\n",
    "test_loader = data.DataLoader(dataset=test_dataset, batch_size=2*BATCH_SIZE, shuffle=False)"
   ]
  },
  {
   "cell_type": "code",
   "execution_count": 37,
   "metadata": {
    "id": "eNjqCTnI9T9w"
   },
   "outputs": [
    {
     "name": "stdout",
     "output_type": "stream",
     "text": [
      "Dataset RetinaMNIST of size 28 (retinamnist)\n",
      "    Number of datapoints: 1080\n",
      "    Root location: /Users/maggieyao/.medmnist\n",
      "    Split: train\n",
      "    Task: ordinal-regression\n",
      "    Number of channels: 3\n",
      "    Meaning of labels: {'0': '0', '1': '1', '2': '2', '3': '3', '4': '4'}\n",
      "    Number of samples: {'train': 1080, 'val': 120, 'test': 400}\n",
      "    Description: The RetinaMNIST is based on the DeepDRiD challenge, which provides a dataset of 1,600 retina fundus images. The task is ordinal regression for 5-level grading of diabetic retinopathy severity. We split the source training set with a ratio of 9:1 into training and validation set, and use the source validation set as the test set. The source images of 3×1,736×1,824 are center-cropped and resized into 3×28×28.\n",
      "    License: CC BY 4.0\n",
      "===================\n",
      "Dataset RetinaMNIST of size 28 (retinamnist)\n",
      "    Number of datapoints: 400\n",
      "    Root location: /Users/maggieyao/.medmnist\n",
      "    Split: test\n",
      "    Task: ordinal-regression\n",
      "    Number of channels: 3\n",
      "    Meaning of labels: {'0': '0', '1': '1', '2': '2', '3': '3', '4': '4'}\n",
      "    Number of samples: {'train': 1080, 'val': 120, 'test': 400}\n",
      "    Description: The RetinaMNIST is based on the DeepDRiD challenge, which provides a dataset of 1,600 retina fundus images. The task is ordinal regression for 5-level grading of diabetic retinopathy severity. We split the source training set with a ratio of 9:1 into training and validation set, and use the source validation set as the test set. The source images of 3×1,736×1,824 are center-cropped and resized into 3×28×28.\n",
      "    License: CC BY 4.0\n"
     ]
    }
   ],
   "source": [
    "print(train_dataset)\n",
    "print(\"===================\")\n",
    "print(test_dataset)"
   ]
  },
  {
   "cell_type": "markdown",
   "metadata": {
    "id": "1ta2wQYk78Mg"
   },
   "source": [
    "##Model"
   ]
  },
  {
   "cell_type": "markdown",
   "metadata": {
    "id": "a17pPgePWXga"
   },
   "source": [
    "MedViTs ---> [MedViT_small, MedViT_base, MedViT_large]"
   ]
  },
  {
   "cell_type": "code",
   "execution_count": 38,
   "metadata": {
    "colab": {
     "base_uri": "https://localhost:8080/"
    },
    "id": "GEQ5S3_U8E0j",
    "outputId": "0ea09038-9e57-42ab-b767-592098af81ba"
   },
   "outputs": [
    {
     "name": "stdout",
     "output_type": "stream",
     "text": [
      "initialize_weights...\n"
     ]
    }
   ],
   "source": [
    "from MedViT import MedViT_small, MedViT_base, MedViT_large\n",
    "\n",
    "model = MedViT_small(num_classes = n_classes).cpu()\n",
    "#model = MedViT_base(num_classes = n_classes).cuda()\n",
    "#model = MedViT_large(num_classes = n_classes).cuda()"
   ]
  },
  {
   "cell_type": "markdown",
   "metadata": {
    "id": "g-ImKp2m9cLf"
   },
   "source": [
    "## Train"
   ]
  },
  {
   "cell_type": "code",
   "execution_count": 39,
   "metadata": {
    "id": "gMy_aJrE9eeM"
   },
   "outputs": [],
   "source": [
    "# define loss function and optimizer\n",
    "if task == \"multi-label, binary-class\":\n",
    "    criterion = nn.BCEWithLogitsLoss()\n",
    "else:\n",
    "    criterion = nn.CrossEntropyLoss()\n",
    "\n",
    "optimizer = optim.SGD(model.parameters(), lr=lr, momentum=0.9)"
   ]
  },
  {
   "cell_type": "code",
   "execution_count": 40,
   "metadata": {
    "id": "KmIo3JWf9lEs"
   },
   "outputs": [
    {
     "name": "stdout",
     "output_type": "stream",
     "text": [
      "Epoch [1/5]\n"
     ]
    },
    {
     "name": "stderr",
     "output_type": "stream",
     "text": [
      "  0%|          | 0/9 [00:00<?, ?it/s]"
     ]
    }
   ],
   "source": [
    "# train\n",
    "\n",
    "for epoch in range(NUM_EPOCHS):\n",
    "    train_correct = 0\n",
    "    train_total = 0\n",
    "    test_correct = 0\n",
    "    test_total = 0\n",
    "    print('Epoch [%d/%d]'% (epoch+1, NUM_EPOCHS))\n",
    "    model.train()\n",
    "    for inputs, targets in tqdm(train_loader):\n",
    "        inputs, targets = inputs.cpu(), targets.cpu()\n",
    "        # forward + backward + optimize\n",
    "        optimizer.zero_grad()\n",
    "        outputs = model(inputs)\n",
    "\n",
    "        if task == 'multi-label, binary-class':\n",
    "            targets = targets.to(torch.float32)\n",
    "            loss = criterion(outputs, targets)\n",
    "        else:\n",
    "            targets = targets.squeeze().long()\n",
    "            loss = criterion(outputs, targets)\n",
    "\n",
    "        loss.backward()\n",
    "        optimizer.step()"
   ]
  },
  {
   "cell_type": "markdown",
   "metadata": {
    "id": "XRkfM6CM91j8"
   },
   "source": [
    "##Test"
   ]
  },
  {
   "cell_type": "code",
   "execution_count": 42,
   "metadata": {
    "colab": {
     "base_uri": "https://localhost:8080/"
    },
    "id": "pdC1Gg98RU37",
    "outputId": "11f6b052-2ac0-4080-c31d-cb5c4cdf0ccc"
   },
   "outputs": [
    {
     "name": "stdout",
     "output_type": "stream",
     "text": [
      "test  auc: 0.695  acc: 0.490\n"
     ]
    }
   ],
   "source": [
    "split = 'test'\n",
    "\n",
    "model.eval()\n",
    "y_true = torch.tensor([])\n",
    "y_score = torch.tensor([])\n",
    "\n",
    "data_loader = train_loader_at_eval if split == 'train' else test_loader\n",
    "\n",
    "with torch.no_grad():\n",
    "    for inputs, targets in data_loader:\n",
    "        inputs = inputs.cpu()\n",
    "        outputs = model(inputs)\n",
    "        outputs = outputs.softmax(dim=-1)\n",
    "        y_score = torch.cat((y_score, outputs.cpu()), 0)\n",
    "\n",
    "    y_score = y_score.detach().numpy()\n",
    "\n",
    "    evaluator = evaluator(data_flag, split, size=224)\n",
    "    metrics = evaluator.evaluate(y_score)\n",
    "\n",
    "    print('%s  auc: %.3f  acc: %.3f' % (split, *metrics))"
   ]
  },
  {
   "cell_type": "markdown",
   "metadata": {
    "id": "XH1WvchMX5L0"
   },
   "source": [
    "## Adversarial Robustness"
   ]
  },
  {
   "cell_type": "markdown",
   "metadata": {
    "id": "GER2-X0Yc1ZL"
   },
   "source": [
    "reduce bach size for GPU limitation"
   ]
  },
  {
   "cell_type": "code",
   "execution_count": 67,
   "metadata": {
    "id": "rNHm98NaZjZ5"
   },
   "outputs": [],
   "source": [
    "BATCH_SIZE = 5\n",
    "test_loader = data.DataLoader(dataset=test_dataset, batch_size=BATCH_SIZE, shuffle=False)"
   ]
  },
  {
   "cell_type": "code",
   "execution_count": null,
   "metadata": {
    "id": "TK4kV6p9YiZY"
   },
   "outputs": [],
   "source": [
    "model.eval()\n",
    "\n",
    "correct = 0\n",
    "total = 0\n",
    "\n",
    "atk = FGSM(model, eps=0.01)\n",
    "\n",
    "for images, labels in test_loader:\n",
    "    labels = labels.squeeze(1)\n",
    "    images = atk(images, labels).cuda()\n",
    "    outputs = model(images)\n",
    "\n",
    "    _, predicted = torch.max(outputs.data, 1)\n",
    "\n",
    "    total += labels.size(0)\n",
    "    correct += (predicted == labels.cuda()).sum()\n",
    "\n",
    "print('FGSM Robust accuracy: %.2f %%' % (100 * float(correct) / total))"
   ]
  },
  {
   "cell_type": "code",
   "execution_count": null,
   "metadata": {
    "id": "76g3n07lcW8x"
   },
   "outputs": [],
   "source": [
    "model.eval()\n",
    "\n",
    "correct = 0\n",
    "total = 0\n",
    "\n",
    "atk = PGD(model, eps=8/255, alpha=4/255, steps=10, random_start=True)\n",
    "\n",
    "for images, labels in test_loader:\n",
    "    labels = labels.squeeze(1)\n",
    "    images = atk(images, labels).cuda()\n",
    "    outputs = model(images)\n",
    "\n",
    "    _, predicted = torch.max(outputs.data, 1)\n",
    "\n",
    "    total += labels.size(0)\n",
    "    correct += (predicted == labels.cuda()).sum()\n",
    "\n",
    "print('PGD Robust accuracy: %.2f %%' % (100 * float(correct) / total))"
   ]
  }
 ],
 "metadata": {
  "accelerator": "GPU",
  "colab": {
   "gpuType": "T4",
   "provenance": []
  },
  "gpuClass": "standard",
  "kernelspec": {
   "display_name": "Python 3 (ipykernel)",
   "language": "python",
   "name": "python3"
  },
  "language_info": {
   "codemirror_mode": {
    "name": "ipython",
    "version": 3
   },
   "file_extension": ".py",
   "mimetype": "text/x-python",
   "name": "python",
   "nbconvert_exporter": "python",
   "pygments_lexer": "ipython3",
   "version": "3.10.4"
  }
 },
 "nbformat": 4,
 "nbformat_minor": 4
}
